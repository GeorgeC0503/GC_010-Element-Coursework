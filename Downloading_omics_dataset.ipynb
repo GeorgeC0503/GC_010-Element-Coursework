{
  "nbformat": 4,
  "nbformat_minor": 0,
  "metadata": {
    "colab": {
      "provenance": [],
      "authorship_tag": "ABX9TyML3ZbkOnh9lB3AglMzdtMF",
      "include_colab_link": true
    },
    "kernelspec": {
      "name": "python3",
      "display_name": "Python 3"
    },
    "language_info": {
      "name": "python"
    }
  },
  "cells": [
    {
      "cell_type": "markdown",
      "metadata": {
        "id": "view-in-github",
        "colab_type": "text"
      },
      "source": [
        "<a href=\"https://colab.research.google.com/github/GeorgeC0503/GC_010-Element-Coursework/blob/main/Downloading_omics_dataset.ipynb\" target=\"_parent\"><img src=\"https://colab.research.google.com/assets/colab-badge.svg\" alt=\"Open In Colab\"/></a>"
      ]
    },
    {
      "cell_type": "code",
      "execution_count": null,
      "metadata": {
        "id": "ZERsDEak6VnO"
      },
      "outputs": [],
      "source": [
        "# Make directory for data storage. This will be named \"imported_data\"\n",
        "! mkdir imported_data"
      ]
    },
    {
      "cell_type": "code",
      "source": [
        "# wget is a command usable on unix and windows. This command imports a file and allocates\n",
        "! wget \\\n",
        "https://www.ebi.ac.uk/gxa/experiments-content/E-MTAB-8626/resources/ExperimentDownloadSupplier.RnaSeqBaseline/tpms.tsv \\\n",
        "-O /content/imported_data/data.tsv"
      ],
      "metadata": {
        "colab": {
          "base_uri": "https://localhost:8080/"
        },
        "id": "p8E9axzU6q7U",
        "outputId": "3375261c-7d72-4733-fb76-df220afb0a60"
      },
      "execution_count": null,
      "outputs": [
        {
          "output_type": "stream",
          "name": "stdout",
          "text": [
            "--2024-07-24 14:04:02--  https://www.ebi.ac.uk/gxa/experiments-content/E-MTAB-8626/resources/ExperimentDownloadSupplier.RnaSeqBaseline/tpms.tsv\n",
            "Resolving www.ebi.ac.uk (www.ebi.ac.uk)... 193.62.193.80\n",
            "Connecting to www.ebi.ac.uk (www.ebi.ac.uk)|193.62.193.80|:443... connected.\n",
            "HTTP request sent, awaiting response... 200 \n",
            "Length: unspecified [text/plain]\n",
            "Saving to: ‘/content/imported_data/data.tsv’\n",
            "\n",
            "/content/imported_d     [            <=>     ] 390.79K   164KB/s    in 2.4s    \n",
            "\n",
            "2024-07-24 14:04:06 (164 KB/s) - ‘/content/imported_data/data.tsv’ saved [400169]\n",
            "\n"
          ]
        }
      ]
    },
    {
      "cell_type": "code",
      "source": [
        "# Check working directory\n",
        "! pwd"
      ],
      "metadata": {
        "colab": {
          "base_uri": "https://localhost:8080/"
        },
        "id": "rMdAGqnkVeOj",
        "outputId": "91db7c55-8a7c-42e1-9cfe-3972d9641ef6"
      },
      "execution_count": null,
      "outputs": [
        {
          "output_type": "stream",
          "name": "stdout",
          "text": [
            "/content\n"
          ]
        }
      ]
    },
    {
      "cell_type": "code",
      "source": [
        "# Navigate to the imported_data + Print contentce of imported data directory (ls)\n",
        "! cd /content/imported_data && ls"
      ],
      "metadata": {
        "colab": {
          "base_uri": "https://localhost:8080/"
        },
        "id": "LTqA0MFt7W-P",
        "outputId": "57ce9a02-72f2-458b-e39b-06f04bc56fa0"
      },
      "execution_count": null,
      "outputs": [
        {
          "output_type": "stream",
          "name": "stdout",
          "text": [
            "data.tsv\n"
          ]
        }
      ]
    }
  ]
}